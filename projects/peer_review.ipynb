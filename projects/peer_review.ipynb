{
 "cells": [
  {
   "cell_type": "markdown",
   "metadata": {},
   "source": [
    "# [NTDS'19] peer-review: Assign a team to each student\n",
    "[ntds'19]: https://github.com/mdeff/ntds_2019\n",
    "\n",
    "[Michaël Defferrard](https://deff.ch), [EPFL LTS2](https://lts2.epfl.ch)"
   ]
  },
  {
   "cell_type": "code",
   "execution_count": null,
   "metadata": {},
   "outputs": [],
   "source": [
    "import random\n",
    "import pandas as pd"
   ]
  },
  {
   "cell_type": "code",
   "execution_count": null,
   "metadata": {},
   "outputs": [],
   "source": [
    "students = pd.read_csv('students.csv', index_col='ID number')\n",
    "assert len(students) == 137\n",
    "students.head()"
   ]
  },
  {
   "cell_type": "code",
   "execution_count": null,
   "metadata": {},
   "outputs": [],
   "source": [
    "stop = False\n",
    "while not stop:\n",
    "\n",
    "    teams = students['Team'].unique()\n",
    "    teams = {team: 0 for team in teams}\n",
    "    assert len(teams) == 35\n",
    "\n",
    "    for student in students.index:\n",
    "\n",
    "        # Cannot review your own team.\n",
    "        own = students['Team'][student]\n",
    "        # Teams get at most 4 reviewers.\n",
    "        full = set(team for team, reviewers in teams.items() if reviewers >= 4)\n",
    "        # Cannot review the same team as your teammates.\n",
    "        teammates = set(students[students['Team'] == own]['Review'])\n",
    "\n",
    "        options = set(teams.keys()) - set([own]) - full - teammates\n",
    "        review = random.choice(list(options))\n",
    "        teams[review] += 1\n",
    "        students.at[student, 'Review'] = review\n",
    "\n",
    "    # No team has less than 3 reviewers.\n",
    "    stop = not any(reviewers < 3 for reviewers in teams.values())"
   ]
  },
  {
   "cell_type": "code",
   "execution_count": null,
   "metadata": {},
   "outputs": [],
   "source": [
    "students.head()\n",
    "students.to_csv('students.csv')"
   ]
  }
 ],
 "metadata": {
  "kernelspec": {
   "display_name": "Python 3",
   "language": "python",
   "name": "python3"
  },
  "language_info": {
   "codemirror_mode": {
    "name": "ipython",
    "version": 3
   },
   "file_extension": ".py",
   "mimetype": "text/x-python",
   "name": "python",
   "nbconvert_exporter": "python",
   "pygments_lexer": "ipython3",
   "version": "3.7.3"
  }
 },
 "nbformat": 4,
 "nbformat_minor": 4
}

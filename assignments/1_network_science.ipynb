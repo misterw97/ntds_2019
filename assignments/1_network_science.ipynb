{
 "cells": [
  {
   "cell_type": "markdown",
   "metadata": {},
   "source": [
    "# [NTDS'19] assignment 1: network science\n",
    "[ntds'19]: https://github.com/mdeff/ntds_2019\n",
    "\n",
    "[Eda Bayram](https://lts4.epfl.ch/bayram), [EPFL LTS4](https://lts4.epfl.ch) and\n",
    "[Nikolaos Karalias](https://people.epfl.ch/nikolaos.karalias), [EPFL LTS2](https://lts2.epfl.ch)."
   ]
  },
  {
   "cell_type": "markdown",
   "metadata": {},
   "source": [
    "## Students\n",
    "\n",
    "* Team: `25`\n",
    "    * Students: `Valentin Viennot`, `Lara Orlandic`"
   ]
  },
  {
   "cell_type": "markdown",
   "metadata": {},
   "source": [
    "## Rules\n",
    "\n",
    "Grading:\n",
    "* The first deadline is for individual submissions. The second deadline is for the team submission.\n",
    "* All team members will receive the same grade based on the team solution submitted on the second deadline.\n",
    "* As a fallback, a team can ask for individual grading. In that case, solutions submitted on the first deadline are graded.\n",
    "* Collaboration between team members is encouraged. No collaboration between teams is allowed.\n",
    "\n",
    "Submission:\n",
    "* Textual answers shall be short. Typically one to two sentences.\n",
    "* Code has to be clean.\n",
    "* You cannot import any other library than we imported.\n",
    "  Note that Networkx is imported in the second section and cannot be used in the first.\n",
    "* When submitting, the notebook is executed and the results are stored. I.e., if you open the notebook again it should show numerical results and plots. We won't be able to execute your notebooks.\n",
    "* The notebook is re-executed from a blank state before submission. That is to be sure it is reproducible. You can click \"Kernel\" then \"Restart Kernel and Run All Cells\" in Jupyter.\n",
    "\n",
    "### <span style=\"color:red\">TODO: keep the same outputs for cells - email to ask if we need to keep the same order</span>"
   ]
  },
  {
   "cell_type": "markdown",
   "metadata": {},
   "source": [
    "## Objective\n",
    "\n",
    "The purpose of this milestone is to explore a given dataset, represent it by network by constructing different graphs. In the first section, you will analyze the network properties. In the second section, you will explore various network models and find out the network model fitting the ones you construct from the dataset."
   ]
  },
  {
   "cell_type": "markdown",
   "metadata": {},
   "source": [
    "## Cora Dataset\n",
    "\n",
    "The [Cora dataset](https://linqs.soe.ucsc.edu/node/236) consists of scientific publications classified into one of seven research fields. \n",
    "\n",
    "* **Citation graph:** the citation network can be constructed from the connections given in the `cora.cites` file.\n",
    "* **Feature graph:** each publication in the dataset is described by a 0/1-valued word vector indicating the absence/presence of the corresponding word from the dictionary and its research field, given in the `cora.content` file. The dictionary consists of 1433 unique words. A feature graph can be constructed using the Euclidean distance between the feature vector of the publications.\n",
    "\n",
    "The [`README`](data/cora/README) provides details about the content of [`cora.cites`](data/cora/cora.cites) and [`cora.content`](data/cora/cora.content)."
   ]
  },
  {
   "cell_type": "markdown",
   "metadata": {},
   "source": [
    "## Section 1: Network Properties"
   ]
  },
  {
   "cell_type": "code",
   "execution_count": 1,
   "metadata": {},
   "outputs": [],
   "source": [
    "import numpy as np\n",
    "import pandas as pd\n",
    "from matplotlib import pyplot as plt\n",
    "\n",
    "%matplotlib inline"
   ]
  },
  {
   "cell_type": "markdown",
   "metadata": {},
   "source": [
    "### Utils functions"
   ]
  },
  {
   "cell_type": "code",
   "execution_count": 2,
   "metadata": {},
   "outputs": [],
   "source": [
    "def are_matrix_equals(a1, a2):\n",
    "    if a1.shape != a2.shape:\n",
    "        return False\n",
    "    for index in np.ndindex(a1.shape):\n",
    "        if a1[index] != a2[index]:\n",
    "            return False\n",
    "    return True"
   ]
  },
  {
   "cell_type": "code",
   "execution_count": 3,
   "metadata": {},
   "outputs": [],
   "source": [
    "def array_map(f, *x):\n",
    "    return np.array(list(map(f,*x)))"
   ]
  },
  {
   "cell_type": "code",
   "execution_count": 4,
   "metadata": {},
   "outputs": [],
   "source": [
    "def is_matrix_symmetric(a):\n",
    "    differences = np.count_nonzero(A_citation - A_citation.transpose())\n",
    "    return differences == 0"
   ]
  },
  {
   "cell_type": "code",
   "execution_count": 5,
   "metadata": {},
   "outputs": [],
   "source": [
    "def get_index_of_1D(array, element):\n",
    "        i, = np.where(array == element)\n",
    "        if len(i) == 0:\n",
    "            return -1\n",
    "        return i[0]"
   ]
  },
  {
   "cell_type": "code",
   "execution_count": 6,
   "metadata": {},
   "outputs": [],
   "source": [
    "def prune_ids_adjacency_matrix(matrix, ids):\n",
    "    \"\"\"set to zeros rows/columns for given ids\"\"\"\n",
    "    pruned = np.copy(matrix)\n",
    "    for i in ids:\n",
    "        pruned[i] = 0\n",
    "        pruned[:,i] = 0\n",
    "    return pruned\n",
    "\n",
    "def reduce_ids_adjacency_matrix(matrix, ids):\n",
    "    \"\"\"only keeps given ids\"\"\"\n",
    "    removed_ids = np.setdiff1d(range(matrix.shape[0]), ids)\n",
    "    return reduce_ids_adjacency_matrix_removeids(matrix, removed_ids)\n",
    "\n",
    "def reduce_ids_adjacency_matrix_removeids(matrix, ids):\n",
    "    \"\"\"only remove given ids\"\"\"\n",
    "    pruned = np.delete(matrix, ids, axis=0)\n",
    "    pruned = np.delete(pruned, ids, axis=1)\n",
    "    return pruned"
   ]
  },
  {
   "cell_type": "code",
   "execution_count": 7,
   "metadata": {},
   "outputs": [],
   "source": [
    "def unzip(zipped):\n",
    "    return [ i for i, _ in zipped ], [ j for _, j in zipped ]"
   ]
  },
  {
   "cell_type": "code",
   "execution_count": 8,
   "metadata": {},
   "outputs": [],
   "source": [
    "def clean_diagonal(matrix):\n",
    "    for i in range(matrix.shape[0]):\n",
    "        matrix[i,i] = 0\n",
    "    return matrix"
   ]
  },
  {
   "cell_type": "markdown",
   "metadata": {},
   "source": [
    "### Question 1: Construct a Citation Graph and a Feature Graph"
   ]
  },
  {
   "cell_type": "markdown",
   "metadata": {},
   "source": [
    "Read the `cora.content` file into a Pandas DataFrame by setting a header for the column names. Check the `README` file."
   ]
  },
  {
   "cell_type": "code",
   "execution_count": 9,
   "metadata": {},
   "outputs": [
    {
     "data": {
      "text/html": [
       "<div>\n",
       "<style scoped>\n",
       "    .dataframe tbody tr th:only-of-type {\n",
       "        vertical-align: middle;\n",
       "    }\n",
       "\n",
       "    .dataframe tbody tr th {\n",
       "        vertical-align: top;\n",
       "    }\n",
       "\n",
       "    .dataframe thead th {\n",
       "        text-align: right;\n",
       "    }\n",
       "</style>\n",
       "<table border=\"1\" class=\"dataframe\">\n",
       "  <thead>\n",
       "    <tr style=\"text-align: right;\">\n",
       "      <th></th>\n",
       "      <th>uid</th>\n",
       "      <th>w0</th>\n",
       "      <th>w1</th>\n",
       "      <th>w2</th>\n",
       "      <th>w3</th>\n",
       "      <th>w4</th>\n",
       "      <th>w5</th>\n",
       "      <th>w6</th>\n",
       "      <th>w7</th>\n",
       "      <th>w8</th>\n",
       "      <th>...</th>\n",
       "      <th>w1424</th>\n",
       "      <th>w1425</th>\n",
       "      <th>w1426</th>\n",
       "      <th>w1427</th>\n",
       "      <th>w1428</th>\n",
       "      <th>w1429</th>\n",
       "      <th>w1430</th>\n",
       "      <th>w1431</th>\n",
       "      <th>w1432</th>\n",
       "      <th>Label</th>\n",
       "    </tr>\n",
       "  </thead>\n",
       "  <tbody>\n",
       "    <tr>\n",
       "      <th>0</th>\n",
       "      <td>31336</td>\n",
       "      <td>0</td>\n",
       "      <td>0</td>\n",
       "      <td>0</td>\n",
       "      <td>0</td>\n",
       "      <td>0</td>\n",
       "      <td>0</td>\n",
       "      <td>0</td>\n",
       "      <td>0</td>\n",
       "      <td>0</td>\n",
       "      <td>...</td>\n",
       "      <td>0</td>\n",
       "      <td>0</td>\n",
       "      <td>1</td>\n",
       "      <td>0</td>\n",
       "      <td>0</td>\n",
       "      <td>0</td>\n",
       "      <td>0</td>\n",
       "      <td>0</td>\n",
       "      <td>0</td>\n",
       "      <td>Neural_Networks</td>\n",
       "    </tr>\n",
       "    <tr>\n",
       "      <th>1</th>\n",
       "      <td>1061127</td>\n",
       "      <td>0</td>\n",
       "      <td>0</td>\n",
       "      <td>0</td>\n",
       "      <td>0</td>\n",
       "      <td>0</td>\n",
       "      <td>0</td>\n",
       "      <td>0</td>\n",
       "      <td>0</td>\n",
       "      <td>0</td>\n",
       "      <td>...</td>\n",
       "      <td>0</td>\n",
       "      <td>1</td>\n",
       "      <td>0</td>\n",
       "      <td>0</td>\n",
       "      <td>0</td>\n",
       "      <td>0</td>\n",
       "      <td>0</td>\n",
       "      <td>0</td>\n",
       "      <td>0</td>\n",
       "      <td>Rule_Learning</td>\n",
       "    </tr>\n",
       "    <tr>\n",
       "      <th>2</th>\n",
       "      <td>1106406</td>\n",
       "      <td>0</td>\n",
       "      <td>0</td>\n",
       "      <td>0</td>\n",
       "      <td>0</td>\n",
       "      <td>0</td>\n",
       "      <td>0</td>\n",
       "      <td>0</td>\n",
       "      <td>0</td>\n",
       "      <td>0</td>\n",
       "      <td>...</td>\n",
       "      <td>0</td>\n",
       "      <td>0</td>\n",
       "      <td>0</td>\n",
       "      <td>0</td>\n",
       "      <td>0</td>\n",
       "      <td>0</td>\n",
       "      <td>0</td>\n",
       "      <td>0</td>\n",
       "      <td>0</td>\n",
       "      <td>Reinforcement_Learning</td>\n",
       "    </tr>\n",
       "    <tr>\n",
       "      <th>3</th>\n",
       "      <td>13195</td>\n",
       "      <td>0</td>\n",
       "      <td>0</td>\n",
       "      <td>0</td>\n",
       "      <td>0</td>\n",
       "      <td>0</td>\n",
       "      <td>0</td>\n",
       "      <td>0</td>\n",
       "      <td>0</td>\n",
       "      <td>0</td>\n",
       "      <td>...</td>\n",
       "      <td>0</td>\n",
       "      <td>0</td>\n",
       "      <td>0</td>\n",
       "      <td>0</td>\n",
       "      <td>0</td>\n",
       "      <td>0</td>\n",
       "      <td>0</td>\n",
       "      <td>0</td>\n",
       "      <td>0</td>\n",
       "      <td>Reinforcement_Learning</td>\n",
       "    </tr>\n",
       "    <tr>\n",
       "      <th>4</th>\n",
       "      <td>37879</td>\n",
       "      <td>0</td>\n",
       "      <td>0</td>\n",
       "      <td>0</td>\n",
       "      <td>0</td>\n",
       "      <td>0</td>\n",
       "      <td>0</td>\n",
       "      <td>0</td>\n",
       "      <td>0</td>\n",
       "      <td>0</td>\n",
       "      <td>...</td>\n",
       "      <td>0</td>\n",
       "      <td>0</td>\n",
       "      <td>0</td>\n",
       "      <td>0</td>\n",
       "      <td>0</td>\n",
       "      <td>0</td>\n",
       "      <td>0</td>\n",
       "      <td>0</td>\n",
       "      <td>0</td>\n",
       "      <td>Probabilistic_Methods</td>\n",
       "    </tr>\n",
       "  </tbody>\n",
       "</table>\n",
       "<p>5 rows × 1435 columns</p>\n",
       "</div>"
      ],
      "text/plain": [
       "       uid  w0  w1  w2  w3  w4  w5  w6  w7  w8  ...  w1424  w1425  w1426  \\\n",
       "0    31336   0   0   0   0   0   0   0   0   0  ...      0      0      1   \n",
       "1  1061127   0   0   0   0   0   0   0   0   0  ...      0      1      0   \n",
       "2  1106406   0   0   0   0   0   0   0   0   0  ...      0      0      0   \n",
       "3    13195   0   0   0   0   0   0   0   0   0  ...      0      0      0   \n",
       "4    37879   0   0   0   0   0   0   0   0   0  ...      0      0      0   \n",
       "\n",
       "   w1427  w1428  w1429  w1430  w1431  w1432                   Label  \n",
       "0      0      0      0      0      0      0         Neural_Networks  \n",
       "1      0      0      0      0      0      0           Rule_Learning  \n",
       "2      0      0      0      0      0      0  Reinforcement_Learning  \n",
       "3      0      0      0      0      0      0  Reinforcement_Learning  \n",
       "4      0      0      0      0      0      0   Probabilistic_Methods  \n",
       "\n",
       "[5 rows x 1435 columns]"
      ]
     },
     "execution_count": 9,
     "metadata": {},
     "output_type": "execute_result"
    }
   ],
   "source": [
    "column_list = ['uid']\n",
    "features_names = []\n",
    "for i in range(1433):\n",
    "    feature = 'w{}'.format(i)\n",
    "    column_list.append(feature)\n",
    "    features_names.append(feature)\n",
    "column_list.append('Label')\n",
    "df = pd.read_csv('data/cora/cora.content', delimiter='\\t', names=column_list)\n",
    "df.set_index('uid')\n",
    "df.head()"
   ]
  },
  {
   "cell_type": "markdown",
   "metadata": {},
   "source": [
    "Print out the number of papers contained in each of the reasearch fields.\n",
    "\n",
    "**Hint:** You can use the `value_counts()` function."
   ]
  },
  {
   "cell_type": "code",
   "execution_count": 10,
   "metadata": {},
   "outputs": [
    {
     "data": {
      "text/plain": [
       "Neural_Networks           818\n",
       "Probabilistic_Methods     426\n",
       "Genetic_Algorithms        418\n",
       "Theory                    351\n",
       "Case_Based                298\n",
       "Reinforcement_Learning    217\n",
       "Rule_Learning             180\n",
       "Name: Label, dtype: int64"
      ]
     },
     "execution_count": 10,
     "metadata": {},
     "output_type": "execute_result"
    }
   ],
   "source": [
    "df.Label.value_counts()"
   ]
  },
  {
   "cell_type": "markdown",
   "metadata": {},
   "source": [
    "Select all papers from a field of your choice and store their feature vectors into a NumPy array.\n",
    "Check its shape."
   ]
  },
  {
   "cell_type": "code",
   "execution_count": 11,
   "metadata": {},
   "outputs": [
    {
     "data": {
      "text/plain": [
       "(818, 1433)"
      ]
     },
     "execution_count": 11,
     "metadata": {},
     "output_type": "execute_result"
    }
   ],
   "source": [
    "my_field = 'Neural_Networks'\n",
    "filtered_data = df[df.Label == my_field]\n",
    "features = filtered_data[features_names].values\n",
    "features.shape"
   ]
  },
  {
   "cell_type": "markdown",
   "metadata": {},
   "source": [
    "Let $D$ be the Euclidean distance matrix whose $(i,j)$ entry corresponds to the Euclidean distance between feature vectors $i$ and $j$.\n",
    "Using the feature vectors of the papers from the field which you have selected, construct $D$ as a Numpy array. "
   ]
  },
  {
   "cell_type": "code",
   "execution_count": 12,
   "metadata": {},
   "outputs": [
    {
     "data": {
      "text/plain": [
       "(818, 818)"
      ]
     },
     "execution_count": 12,
     "metadata": {},
     "output_type": "execute_result"
    }
   ],
   "source": [
    "def euclidean_distance_vectors(a, b):\n",
    "    return np.linalg.norm(a-b)\n",
    "\n",
    "def euclidean_distance_matrix(features_matrix):    \n",
    "    matrix = [[euclidean_distance_vectors(a,b) for b in features_matrix] for a in features_matrix]\n",
    "    return np.array(matrix)\n",
    "\n",
    "#def get_mean_distance(distance_matrix):\n",
    "#    distance_matrix = clean_diagonal(distance_matrix)\n",
    "#    sum_ = np.sum(distance_matrix)\n",
    "#    num_ = distance_matrix.shape[0]*distance_matrix.shape[1]-distance_matrix.shape[0]\n",
    "#    return sum_/num_\n",
    "    \n",
    "distance = euclidean_distance_matrix(features)\n",
    "distance.shape"
   ]
  },
  {
   "cell_type": "code",
   "execution_count": 13,
   "metadata": {},
   "outputs": [],
   "source": [
    "# This is only used to check our results\n",
    "#from scipy.spatial.distance import pdist, squareform\n",
    "#d = squareform(pdist(features, metric='euclidean'))\n",
    "#print('Validation:',are_matrix_equals(d, distance))\n",
    "#print('Mean is {}'.format(d.mean()))"
   ]
  },
  {
   "cell_type": "markdown",
   "metadata": {},
   "source": [
    "Check the mean pairwise distance $\\mathbb{E}[D]$."
   ]
  },
  {
   "cell_type": "code",
   "execution_count": 14,
   "metadata": {},
   "outputs": [
    {
     "data": {
      "text/plain": [
       "5.689638434824233"
      ]
     },
     "execution_count": 14,
     "metadata": {},
     "output_type": "execute_result"
    }
   ],
   "source": [
    "mean_distance = distance.mean()\n",
    "mean_distance"
   ]
  },
  {
   "cell_type": "markdown",
   "metadata": {},
   "source": [
    "Plot an histogram of the euclidean distances."
   ]
  },
  {
   "cell_type": "code",
   "execution_count": 15,
   "metadata": {},
   "outputs": [
    {
     "data": {
      "image/png": "[encoded data removed]",
      "text/plain": [
       "<Figure size 576x288 with 1 Axes>"
      ]
     },
     "metadata": {
      "needs_background": "light"
     },
     "output_type": "display_data"
    }
   ],
   "source": [
    "plt.figure(1, figsize=(8, 4))\n",
    "plt.title(\"Histogram of Euclidean distances between papers\")\n",
    "plt.hist(distance.flatten());"
   ]
  },
  {
   "cell_type": "markdown",
   "metadata": {},
   "source": [
    "Now create an adjacency matrix for the papers by thresholding the Euclidean distance matrix.\n",
    "The resulting (unweighted) adjacency matrix should have entries\n",
    "$$ A_{ij} = \\begin{cases} 1, \\; \\text{if} \\; d(i,j)< \\mathbb{E}[D], \\; i \\neq j, \\\\ 0, \\; \\text{otherwise.} \\end{cases} $$\n",
    "\n",
    "First, let us choose the mean distance as the threshold."
   ]
  },
  {
   "cell_type": "code",
   "execution_count": 16,
   "metadata": {},
   "outputs": [],
   "source": [
    "def binary_threshold_matrix(matrix, threshold):\n",
    "    ''' returns a copy of the input matrix with values set to 1 if under threshold, 0 otherwise'''\n",
    "    t = np.copy(matrix)\n",
    "    return np.where(t<threshold, 1, 0)"
   ]
  },
  {
   "cell_type": "code",
   "execution_count": 17,
   "metadata": {},
   "outputs": [
    {
     "data": {
      "text/plain": [
       "(818, 818)"
      ]
     },
     "execution_count": 17,
     "metadata": {},
     "output_type": "execute_result"
    }
   ],
   "source": [
    "threshold = mean_distance\n",
    "A_feature = clean_diagonal(binary_threshold_matrix(distance, threshold))\n",
    "A_feature.shape"
   ]
  },
  {
   "cell_type": "markdown",
   "metadata": {},
   "source": [
    "Now read the `cora.cites` file and construct the citation graph by converting the given citation connections into an adjacency matrix."
   ]
  },
  {
   "cell_type": "code",
   "execution_count": 18,
   "metadata": {},
   "outputs": [],
   "source": [
    "def create_adjacency_matrix(edges, uids = None, directed = False):\n",
    "    if uids is None:\n",
    "        uids = np.unique(edges, axis=None)\n",
    "    length = uids.shape[0]\n",
    "    a = np.zeros((length,length))\n",
    "    for edge in edges:\n",
    "        id1 = get_index_of_1D(uids, edge[0])\n",
    "        id2 = get_index_of_1D(uids, edge[1])\n",
    "        if id1 == -1 or id2 == -1:\n",
    "            continue\n",
    "        a[id1,id2] = 1\n",
    "        if not directed:\n",
    "            a[id2,id1] = 1\n",
    "    return a"
   ]
  },
  {
   "cell_type": "code",
   "execution_count": 19,
   "metadata": {},
   "outputs": [
    {
     "data": {
      "text/plain": [
       "(2708, 2708)"
      ]
     },
     "execution_count": 19,
     "metadata": {},
     "output_type": "execute_result"
    }
   ],
   "source": [
    "cora_cites = np.genfromtxt('data/cora/cora.cites', delimiter='\\t')\n",
    "A_citation_full = create_adjacency_matrix(cora_cites)\n",
    "A_citation_full.shape"
   ]
  },
  {
   "cell_type": "markdown",
   "metadata": {},
   "source": [
    "Get the adjacency matrix of the citation graph for the field that you chose.\n",
    "You have to appropriately reduce the adjacency matrix of the citation graph."
   ]
  },
  {
   "cell_type": "code",
   "execution_count": 20,
   "metadata": {},
   "outputs": [
    {
     "name": "stdout",
     "output_type": "stream",
     "text": [
      "shape=(818, 818)\n"
     ]
    }
   ],
   "source": [
    "filtered_uids = filtered_data['uid'].values\n",
    "A_citation = create_adjacency_matrix(cora_cites, filtered_uids)\n",
    "print(f'shape={A_citation.shape}')"
   ]
  },
  {
   "cell_type": "markdown",
   "metadata": {},
   "source": [
    "Check if your adjacency matrix is symmetric. Symmetrize your final adjacency matrix if it's not already symmetric."
   ]
  },
  {
   "cell_type": "code",
   "execution_count": 21,
   "metadata": {},
   "outputs": [
    {
     "name": "stdout",
     "output_type": "stream",
     "text": [
      "True\n"
     ]
    }
   ],
   "source": [
    "print(is_matrix_symmetric(A_citation))"
   ]
  },
  {
   "cell_type": "markdown",
   "metadata": {},
   "source": [
    "Check the shape of your adjacency matrix again."
   ]
  },
  {
   "cell_type": "code",
   "execution_count": 22,
   "metadata": {},
   "outputs": [
    {
     "data": {
      "text/plain": [
       "(818, 818)"
      ]
     },
     "execution_count": 22,
     "metadata": {},
     "output_type": "execute_result"
    }
   ],
   "source": [
    "A_citation.shape"
   ]
  },
  {
   "cell_type": "markdown",
   "metadata": {},
   "source": [
    "### Question 2: Degree Distribution and Moments"
   ]
  },
  {
   "cell_type": "markdown",
   "metadata": {},
   "source": [
    "What is the total number of edges in each graph?"
   ]
  },
  {
   "cell_type": "code",
   "execution_count": 23,
   "metadata": {},
   "outputs": [],
   "source": [
    "def count_edges(adjacency_matrix, directed = False):\n",
    "    count = np.count_nonzero(adjacency_matrix)\n",
    "    if directed:\n",
    "        return count\n",
    "    return count/2"
   ]
  },
  {
   "cell_type": "code",
   "execution_count": 24,
   "metadata": {},
   "outputs": [
    {
     "name": "stdout",
     "output_type": "stream",
     "text": [
      "Number of edges in the feature graph: 136771.0\n",
      "Number of edges in the citation graph: 1175.0\n"
     ]
    }
   ],
   "source": [
    "num_edges_feature = count_edges(A_feature)\n",
    "num_edges_citation = count_edges(A_citation)\n",
    "print(f\"Number of edges in the feature graph: {num_edges_feature}\")\n",
    "print(f\"Number of edges in the citation graph: {num_edges_citation}\")"
   ]
  },
  {
   "cell_type": "markdown",
   "metadata": {},
   "source": [
    "Plot the degree distribution histogram for each of the graphs."
   ]
  },
  {
   "cell_type": "code",
   "execution_count": 25,
   "metadata": {},
   "outputs": [],
   "source": [
    "def compute_nodes_degrees(adjacency_matrix, directed = False):\n",
    "    if directed:\n",
    "        raise NotImplementedError\n",
    "    return np.sum(adjacency_matrix, axis=0)"
   ]
  },
  {
   "cell_type": "code",
   "execution_count": 26,
   "metadata": {},
   "outputs": [
    {
     "data": {
      "image/png": "[encoded data removed]",
      "text/plain": [
       "<Figure size 1152x288 with 2 Axes>"
      ]
     },
     "metadata": {
      "needs_background": "light"
     },
     "output_type": "display_data"
    }
   ],
   "source": [
    "degrees_citation = compute_nodes_degrees(A_citation)\n",
    "degrees_feature = compute_nodes_degrees(A_feature)\n",
    "\n",
    "deg_hist_normalization = np.ones(degrees_citation.shape[0]) / degrees_citation.shape[0]\n",
    "\n",
    "fig, axes = plt.subplots(1, 2, figsize=(16, 4))\n",
    "axes[0].set_title('Citation graph degree distribution')\n",
    "axes[0].hist(degrees_citation, weights=deg_hist_normalization);\n",
    "axes[1].set_title('Feature graph degree distribution')\n",
    "axes[1].hist(degrees_feature, weights=deg_hist_normalization);"
   ]
  },
  {
   "cell_type": "markdown",
   "metadata": {},
   "source": [
    "Calculate the first and second moments of the degree distribution of each graph."
   ]
  },
  {
   "cell_type": "code",
   "execution_count": 28,
   "metadata": {},
   "outputs": [],
   "source": [
    "def compute_nth_moment(adjacency_matrix, degree = 1, directed = False, center = 0):\n",
    "    nodes_degrees = compute_nodes_degrees(adjacency_matrix, directed)\n",
    "    nodes_degrees_t = array_map(lambda x: (x-center)**degree, nodes_degrees)\n",
    "    return np.sum(nodes_degrees_t)/adjacency_matrix.shape[0]"
   ]
  },
  {
   "cell_type": "code",
   "execution_count": 29,
   "metadata": {
    "scrolled": false
   },
   "outputs": [
    {
     "name": "stdout",
     "output_type": "stream",
     "text": [
      "1st moment of citation graph: 2.8728606356968216 (sqrt = 1.6949515142613436)\n",
      "2nd moment of citation graph: 15.511952941457784 (sqrt = 3.9385216695427467)\n",
      "1st moment of feature graph: 334.4034229828851 (sqrt = 18.286700713438854)\n",
      "2nd moment of feature graph: 55375.54874133943 (sqrt = 235.32009846449458)\n"
     ]
    }
   ],
   "source": [
    "cit_moment_1 = compute_nth_moment(A_citation, 1)\n",
    "cit_moment_2 = compute_nth_moment(A_citation, 2, center = cit_moment_1)\n",
    "\n",
    "feat_moment_1 = compute_nth_moment(A_feature, 1)\n",
    "feat_moment_2 = compute_nth_moment(A_feature, 2, center = feat_moment_1)\n",
    "\n",
    "print(f\"1st moment of citation graph: {cit_moment_1} (sqrt = {np.sqrt(cit_moment_1)})\")\n",
    "print(f\"2nd moment of citation graph: {cit_moment_2} (sqrt = {np.sqrt(cit_moment_2)})\")\n",
    "print(f\"1st moment of feature graph: {feat_moment_1} (sqrt = {np.sqrt(feat_moment_1)})\")\n",
    "print(f\"2nd moment of feature graph: {feat_moment_2} (sqrt = {np.sqrt(feat_moment_2)})\")"
   ]
  },
  {
   "cell_type": "markdown",
   "metadata": {},
   "source": [
    "What information do the moments provide you about the graphs?\n",
    "Explain the differences in moments between graphs by comparing their degree distributions."
   ]
  },
  {
   "cell_type": "markdown",
   "metadata": {},
   "source": [
    "**Your answer here:**    \n",
    "The first moment is the average degree: It tells us how connected is the network (from isolated nodes to connected network).\n",
    "\n",
    "From the second moment (variance) we can guess if we have regular lattices (variance = 0), random network (variance = squareroot(average_degree)) or scale free network (unbounded variance).\n",
    "    \n",
    "It is well represented with the degree distribution:    \n",
    "1. Citation Graph: all nodes are about the same degree (low variance), and the graph is not very connected (low average) --> it could be a random network, because std is close to average degree.\n",
    "2. Feature Graph: There's a big variance because lots of node have a big degree (800) and lots of them have a smaller one (around 200). Probably it is because some big hubs exist in the graph. It could be a scale free network.\n",
    "\n",
    "### <span style=\"color:pink\">TODO: pretty and make it shorter (3 sentences!!!)</span>"
   ]
  },
  {
   "cell_type": "markdown",
   "metadata": {},
   "source": [
    "Select the 20 largest hubs for each of the graphs and remove them. Observe the sparsity pattern of the adjacency matrices of the citation and feature graphs before and after such a reduction."
   ]
  },
  {
   "cell_type": "markdown",
   "metadata": {},
   "source": [
    "### <span style=\"color:green\">TODO: should we set to zero or remove?</span>"
   ]
  },
  {
   "cell_type": "code",
   "execution_count": null,
   "metadata": {},
   "outputs": [],
   "source": [
    "# TODO: 1. get the ids of the 20 largest hubs\n",
    "# TODO: 2. prune the matrix of these ids\n",
    "NUMBER_OF_HUBS = 20\n",
    "ids_largest_hubs_citation = np.argpartition(degrees_citation, -NUMBER_OF_HUBS)[-NUMBER_OF_HUBS:]\n",
    "ids_largest_hubs_feature = np.argpartition(degrees_feature, -NUMBER_OF_HUBS)[-NUMBER_OF_HUBS:]\n",
    "#reduced_A_feature = prune_ids_adjacency_matrix(A_feature, ids_largest_hubs_feature)\n",
    "#reduced_A_citation = prune_ids_adjacency_matrix(A_citation, ids_largest_hubs_citation)\n",
    "\n",
    "reduced_A_feature = reduce_ids_adjacency_matrix_removeids(A_feature,ids_largest_hubs_feature)\n",
    "reduced_A_citation = reduce_ids_adjacency_matrix_removeids(A_citation,ids_largest_hubs_citation)\n",
    "\n",
    "fig, axes = plt.subplots(2, 2, figsize=(16, 16))\n",
    "axes[0, 0].set_title('Feature graph: adjacency matrix sparsity pattern')\n",
    "axes[0, 0].spy(A_feature);\n",
    "axes[0, 1].set_title('Feature graph without top 20 hubs: adjacency matrix sparsity pattern')\n",
    "axes[0, 1].spy(reduced_A_feature);\n",
    "axes[1, 0].set_title('Citation graph: adjacency matrix sparsity pattern')\n",
    "axes[1, 0].spy(A_citation);\n",
    "axes[1, 1].set_title('Citation graph without top 20 hubs: adjacency matrix sparsity pattern')\n",
    "axes[1, 1].spy(reduced_A_citation);"
   ]
  },
  {
   "cell_type": "markdown",
   "metadata": {},
   "source": [
    "Plot the new degree distribution histograms."
   ]
  },
  {
   "cell_type": "code",
   "execution_count": null,
   "metadata": {},
   "outputs": [],
   "source": [
    "reduced_degrees_feat = compute_nodes_degrees(reduced_A_feature)\n",
    "reduced_degrees_cit = compute_nodes_degrees(reduced_A_citation)\n",
    "\n",
    "deg_hist_normalization_citation = np.ones(reduced_degrees_cit.shape[0])/reduced_degrees_cit.shape[0]\n",
    "deg_hist_normalization_feature = np.ones(reduced_degrees_feat.shape[0])/reduced_degrees_feat.shape[0]\n",
    "\n",
    "fig, axes = plt.subplots(2, 2, figsize=(16, 8))\n",
    "axes[0,0].set_title('Reduced citation graph degree distribution')\n",
    "axes[0,0].hist(reduced_degrees_cit, weights=deg_hist_normalization_citation);\n",
    "axes[0,1].set_title('Reduced feature graph degree distribution')\n",
    "axes[0,1].hist(reduced_degrees_feat, weights=deg_hist_normalization_feature);\n",
    "axes[1,0].set_title('Citation graph degree distribution')\n",
    "axes[1,0].hist(degrees_citation, weights=deg_hist_normalization_cit);\n",
    "axes[1,1].set_title('Feature graph degree distribution')\n",
    "axes[1,1].hist(degrees_feature, weights=deg_hist_normalization_feat);"
   ]
  },
  {
   "cell_type": "markdown",
   "metadata": {},
   "source": [
    "Compute the first and second moments for the new graphs."
   ]
  },
  {
   "cell_type": "code",
   "execution_count": null,
   "metadata": {},
   "outputs": [],
   "source": [
    "reduced_cit_moment_1 = compute_nth_moment(reduced_A_citation, 1)\n",
    "reduced_cit_moment_2 = compute_nth_moment(reduced_A_citation, 2, center = reduced_cit_moment_1)\n",
    "\n",
    "reduced_feat_moment_1 = compute_nth_moment(reduced_A_feature, 1)\n",
    "reduced_feat_moment_2 = compute_nth_moment(reduced_A_feature, 2, center = reduced_feat_moment_1)\n",
    "\n",
    "print(\"Citation graph first moment:\", reduced_cit_moment_1)\n",
    "print(\"Citation graph second moment:\", reduced_cit_moment_2)\n",
    "print(\"Feature graph first moment: \", reduced_feat_moment_1)\n",
    "print(\"Feature graph second moment: \", reduced_feat_moment_2)"
   ]
  },
  {
   "cell_type": "markdown",
   "metadata": {},
   "source": [
    "Print the number of edges in the reduced graphs."
   ]
  },
  {
   "cell_type": "code",
   "execution_count": null,
   "metadata": {},
   "outputs": [],
   "source": [
    "num_edges_reduced_feature = count_edges(reduced_A_feature)\n",
    "num_edges_reduced_citation = count_edges(reduced_A_citation)\n",
    "print('Num edges in reduced... feature={} citation={}'.format(num_edges_reduced_feature,num_edges_reduced_citation))"
   ]
  },
  {
   "cell_type": "markdown",
   "metadata": {},
   "source": [
    "Is the effect of removing the hubs the same for both networks? Look at the percentage changes for each moment. Which of the moments is affected the most and in which graph? Explain why.  \n",
    "\n",
    "**Hint:** Examine the degree distributions."
   ]
  },
  {
   "cell_type": "code",
   "execution_count": null,
   "metadata": {},
   "outputs": [],
   "source": [
    "def show_variation(old_value, new_value, name = 'feature'):\n",
    "    variation = (new_value-old_value)/old_value*100\n",
    "    #print('{} varied by {}%'.format(name, variation))\n",
    "    return name, variation\n",
    "variations_params = [\n",
    "    (num_edges_feature, num_edges_reduced_feature, 'num_edges_feature'),\n",
    "    (num_edges_citation, num_edges_reduced_citation, 'num_edges_citation'),\n",
    "    (cit_moment_1, reduced_cit_moment_1, 'moment_1_citation'),\n",
    "    (cit_moment_2, reduced_cit_moment_2, 'moment_2_citation'),\n",
    "    (feat_moment_1, reduced_feat_moment_1, 'moment_1_feature'),\n",
    "    (feat_moment_2, reduced_feat_moment_2, 'moment_2_feature')\n",
    "]\n",
    "variations = [show_variation(a,b,c) for a,b,c in variations_params]\n",
    "x, heights = unzip(variations)\n",
    "\n",
    "plt.rcdefaults()\n",
    "fig, ax = plt.subplots()\n",
    "y_pos = np.arange(len(x))\n",
    "ax.barh(y_pos, heights, align='center')\n",
    "ax.set_yticks(y_pos)\n",
    "ax.set_yticklabels(x)\n",
    "ax.invert_yaxis()  # labels read top-to-bottom\n",
    "ax.set_xlabel('Variation (% of old value)')\n",
    "plt.show()"
   ]
  },
  {
   "cell_type": "markdown",
   "metadata": {},
   "source": [
    "**Your answer here:**\n",
    "The second moment of the citation graph is affected the most.\n",
    "\n",
    "Remark: We could also argue that the citation graph is much smaller in terms of edges so removing a fix value of 20 hubs has more impact on this sparser than on the very huge feature graph.\n",
    "\n",
    "### <span style=\"color:pink\">TODO: delete and replace with LARA's answer (much prettier!)</span>"
   ]
  },
  {
   "cell_type": "markdown",
   "metadata": {},
   "source": [
    "### Question 3: Pruning, sparsity, paths"
   ]
  },
  {
   "cell_type": "markdown",
   "metadata": {},
   "source": [
    "By adjusting the threshold of the euclidean distance matrix, prune the feature graph so that its number of edges is roughly close (within a hundred edges) to the number of edges in the citation graph."
   ]
  },
  {
   "cell_type": "code",
   "execution_count": null,
   "metadata": {},
   "outputs": [],
   "source": [
    "def dichotomic_search(min_param, max_param, expected_val, param_to_val, epsilon = 100, max_loops = 50):\n",
    "    '''param_to_val should be a strctly increasing function of param on [min_param, max_param]'''\n",
    "    test_param = (min_param+max_param)/2\n",
    "    test_value = param_to_val(test_param)\n",
    "    max_loops = max_loops - 1\n",
    "    if max_loops == 0:\n",
    "        print('WARNING: max_loops parameter exceeded -> dichotomic_search interrupted')\n",
    "        return test_param\n",
    "    if test_value < expected_val + epsilon and test_value > expected_val - epsilon:\n",
    "        return test_param\n",
    "    if test_value > expected_val:\n",
    "        return dichotomic_search(min_param, test_param, expected_val, param_to_val, epsilon, max_loops)\n",
    "    else:\n",
    "        return dichotomic_search(test_param, max_param, expected_val, param_to_val, epsilon, max_loops)"
   ]
  },
  {
   "cell_type": "code",
   "execution_count": null,
   "metadata": {},
   "outputs": [],
   "source": [
    "threshold_2 = dichotomic_search(\n",
    "    0,# zero is the lowest bound possible\n",
    "    mean_distance,# we know that mean distance is already too much\n",
    "    num_edges_citation,# that's our goal value (aka. number of edges in graph)\n",
    "    lambda x: count_edges(clean_diagonal(binary_threshold_matrix(distance, x))),\n",
    "    epsilon = 5\n",
    ")\n",
    "print(f\"Optimal threshold is {threshold_2}\")\n",
    "\n",
    "A_feature_pruned = clean_diagonal(binary_threshold_matrix(distance, threshold_2))\n",
    "num_edges_feature_pruned = count_edges(A_feature_pruned)\n",
    "\n",
    "print(f\"Number of edges in the feature graph: {num_edges_feature}\")\n",
    "print(f\"Number of edges in the feature graph after pruning: {num_edges_feature_pruned}\")\n",
    "print(f\"Number of edges in the citation graph: {num_edges_citation}\")"
   ]
  },
  {
   "cell_type": "markdown",
   "metadata": {},
   "source": [
    "Check your results by comparing the sparsity patterns and total number of edges between the graphs."
   ]
  },
  {
   "cell_type": "code",
   "execution_count": null,
   "metadata": {},
   "outputs": [],
   "source": [
    "fig, axes = plt.subplots(1, 2, figsize=(12, 6))\n",
    "axes[0].set_title('Citation graph sparsity')\n",
    "axes[0].spy(A_citation);\n",
    "axes[1].set_title('Feature graph sparsity')\n",
    "axes[1].spy(A_feature_pruned);"
   ]
  },
  {
   "cell_type": "markdown",
   "metadata": {},
   "source": [
    "Let $C_{k}(i,j)$ denote the number of paths of length $k$ from node $i$ to node $j$. \n",
    "\n",
    "We define the path matrix $P$, with entries\n",
    "$ P_{ij} = \\displaystyle\\sum_{k=0}^{N}C_{k}(i,j). $"
   ]
  },
  {
   "cell_type": "markdown",
   "metadata": {},
   "source": [
    "Calculate the path matrices for both the citation and the unpruned feature graphs for $N =10$.  \n",
    "\n",
    "**Hint:** Use [powers of the adjacency matrix](https://en.wikipedia.org/wiki/Adjacency_matrix#Matrix_powers)."
   ]
  },
  {
   "cell_type": "code",
   "execution_count": null,
   "metadata": {},
   "outputs": [],
   "source": [
    "def compute_N_path_matrix(adjacency_matrix, N, next_n = 0, prev = None):\n",
    "    if prev is None:\n",
    "        size = adjacency_matrix.shape[0]\n",
    "        prev = np.zeros((size,size))\n",
    "    if next_n > N:\n",
    "        return prev\n",
    "    n_path = np.linalg.matrix_power(adjacency_matrix, next_n)\n",
    "    return prev + compute_N_path_matrix(adjacency_matrix, N, next_n=next_n+1, prev=n_path)"
   ]
  },
  {
   "cell_type": "code",
   "execution_count": null,
   "metadata": {},
   "outputs": [],
   "source": [
    "N = 10\n",
    "path_matrix_citation = compute_N_path_matrix(A_citation, N)\n",
    "path_matrix_feature = compute_N_path_matrix(A_feature, N)"
   ]
  },
  {
   "cell_type": "markdown",
   "metadata": {},
   "source": [
    "Check the sparsity pattern for both of path matrices."
   ]
  },
  {
   "cell_type": "code",
   "execution_count": null,
   "metadata": {},
   "outputs": [],
   "source": [
    "fig, axes = plt.subplots(1, 2, figsize=(16, 9))\n",
    "axes[0].set_title('Citation Path matrix sparsity')\n",
    "axes[0].spy(path_matrix_citation);\n",
    "axes[1].set_title('Feature Path matrix sparsity')\n",
    "axes[1].spy(path_matrix_feature);"
   ]
  },
  {
   "cell_type": "markdown",
   "metadata": {},
   "source": [
    "Now calculate the path matrix of the pruned feature graph for $N=10$. Plot the corresponding sparsity pattern. Is there any difference?"
   ]
  },
  {
   "cell_type": "code",
   "execution_count": null,
   "metadata": {
    "scrolled": true
   },
   "outputs": [],
   "source": [
    "path_matrix_pruned = compute_N_path_matrix(A_feature_pruned, N)\n",
    "plt.figure(figsize=(12, 6))\n",
    "plt.title('Pruned Feature Path matrix sparsity')\n",
    "plt.spy(path_matrix_pruned);"
   ]
  },
  {
   "cell_type": "markdown",
   "metadata": {},
   "source": [
    "**Your answer here:**     \n",
    "The pruned feature path sparsity has a closer shape to the citation path sparsity than the orginal feature one. If we remove the shortest paths allowed by the biggest paths, we can see that there's a relationship between the citation graph and the feature graph...\n",
    "\n",
    "\n",
    "### <span style=\"color:pink\">TODO: delete and replace with LARA's answer (much prettier!)</span>"
   ]
  },
  {
   "cell_type": "markdown",
   "metadata": {},
   "source": [
    "Describe how you can use the above process of counting paths to determine whether a graph is connected or not. Is the original (unpruned) feature graph connected?"
   ]
  },
  {
   "cell_type": "markdown",
   "metadata": {},
   "source": [
    "**Your answer here:**    \n",
    "We can fix a N max and accumulates number of n (for n <= N) paths. In the end, the path-matrix should not have zeros values if it is connected.\n",
    "\n",
    "### <span style=\"color:pink\">TODO: delete and replace with LARA's answer (much prettier!)</span>"
   ]
  },
  {
   "cell_type": "code",
   "execution_count": null,
   "metadata": {},
   "outputs": [],
   "source": [
    "def get_matrix_connectivity(adjacency_matrix, N_max = 50, next_n = 0, output_logs = False, prev = None):\n",
    "    ''' returns -1 if not connected or the diameter if connected '''\n",
    "    path_matrix = compute_N_path_matrix(adjacency_matrix, next_n, next_n=next_n, prev=prev)\n",
    "    if np.count_nonzero(path_matrix==0) == 0:\n",
    "        if output_logs:\n",
    "            print(f\"Matrix is connected with paths of max {next_n} step(s)\")\n",
    "        return next_n\n",
    "    if next_n == N_max:\n",
    "        if output_logs:\n",
    "            print(f\"Matrix is not connected\")\n",
    "            print(f\"WARNING: connectivity has been checked for maximum {N_max}-step path\")\n",
    "        return -1\n",
    "    return get_matrix_connectivity(adjacency_matrix, N_max, next_n + 1, output_logs, path_matrix)\n",
    "\n",
    "def is_matrix_connected(adjacency_matrix, N_max = 50, next_n = 1, output_logs = False):\n",
    "    return get_matrix_connectivity(adjacency_matrix, N_max, next_n, output_logs) != -1"
   ]
  },
  {
   "cell_type": "code",
   "execution_count": null,
   "metadata": {},
   "outputs": [],
   "source": [
    "print(\"Checking feature (unpruned) connectivity...\")\n",
    "is_matrix_connected(A_feature, output_logs = True)"
   ]
  },
  {
   "cell_type": "markdown",
   "metadata": {},
   "source": [
    "If the graph is connected, how can you guess its diameter using the path matrix?"
   ]
  },
  {
   "cell_type": "markdown",
   "metadata": {},
   "source": [
    "**Your answer here:**    \n",
    "The previous code already answers this question. We check for which n (of N) the matrix has now paths from any node to any node.\n",
    "\n",
    "### <span style=\"color:pink\">TODO: delete and replace with LARA's answer (much prettier!)</span>"
   ]
  },
  {
   "cell_type": "markdown",
   "metadata": {},
   "source": [
    "If any of your graphs is connected, calculate the diameter using that process."
   ]
  },
  {
   "cell_type": "code",
   "execution_count": null,
   "metadata": {},
   "outputs": [],
   "source": [
    "diameter = get_matrix_connectivity(A_feature)\n",
    "print(f\"The diameter is: {diameter}\")"
   ]
  },
  {
   "cell_type": "markdown",
   "metadata": {},
   "source": [
    "Check if your guess was correct using [NetworkX](https://networkx.github.io/documentation/stable/reference/algorithms/generated/networkx.algorithms.distance_measures.diameter.html).\n",
    "Note: usage of NetworkX is only allowed in this part of Section 1."
   ]
  },
  {
   "cell_type": "code",
   "execution_count": null,
   "metadata": {},
   "outputs": [],
   "source": [
    "import networkx as nx\n",
    "feature_graph = nx.from_numpy_matrix(A_feature)\n",
    "print(f\"Diameter according to networkx: {nx.diameter(feature_graph)}\")"
   ]
  },
  {
   "cell_type": "markdown",
   "metadata": {},
   "source": [
    "## Section 2: Network Models"
   ]
  },
  {
   "cell_type": "markdown",
   "metadata": {},
   "source": [
    "In this section, you will analyze the feature and citation graphs you constructed in the previous section in terms of the network model types.\n",
    "For this purpose, you can use the NetworkX libary imported below."
   ]
  },
  {
   "cell_type": "code",
   "execution_count": null,
   "metadata": {},
   "outputs": [],
   "source": [
    "import networkx as nx"
   ]
  },
  {
   "cell_type": "markdown",
   "metadata": {},
   "source": [
    "Let us create NetworkX graph objects from the adjacency matrices computed in the previous section."
   ]
  },
  {
   "cell_type": "code",
   "execution_count": null,
   "metadata": {},
   "outputs": [],
   "source": [
    "G_citation = nx.from_numpy_matrix(A_citation)\n",
    "print('Number of nodes: {}, Number of edges: {}'. format(G_citation.number_of_nodes(), G_citation.number_of_edges()))\n",
    "print('Number of self-loops: {}, Number of connected components: {}'. format(G_citation.number_of_selfloops(), nx.number_connected_components(G_citation)))"
   ]
  },
  {
   "cell_type": "markdown",
   "metadata": {},
   "source": [
    "In the rest of this assignment, we will consider the pruned feature graph as the feature network."
   ]
  },
  {
   "cell_type": "code",
   "execution_count": null,
   "metadata": {},
   "outputs": [],
   "source": [
    "G_feature = nx.from_numpy_matrix(A_feature_pruned)\n",
    "print('Number of nodes: {}, Number of edges: {}'. format(G_feature.number_of_nodes(), G_feature.number_of_edges()))\n",
    "print('Number of self-loops: {}, Number of connected components: {}'. format(G_feature.number_of_selfloops(), nx.number_connected_components(G_feature)))"
   ]
  },
  {
   "cell_type": "markdown",
   "metadata": {},
   "source": [
    "### Question 4: Simulation with Erdős–Rényi and Barabási–Albert models"
   ]
  },
  {
   "cell_type": "markdown",
   "metadata": {},
   "source": [
    "Create an Erdős–Rényi and a Barabási–Albert graph using NetworkX to simulate the citation graph and the feature graph you have. When choosing parameters for the networks, take into account the number of vertices and edges of the original networks."
   ]
  },
  {
   "cell_type": "markdown",
   "metadata": {},
   "source": [
    "The number of nodes should exactly match the number of nodes in the original citation and feature graphs."
   ]
  },
  {
   "cell_type": "code",
   "execution_count": null,
   "metadata": {},
   "outputs": [],
   "source": [
    "assert len(G_citation.nodes()) == len(G_feature.nodes())\n",
    "n = len(G_citation.nodes())\n",
    "n"
   ]
  },
  {
   "cell_type": "markdown",
   "metadata": {},
   "source": [
    "The number of match shall fit the average of the number of edges in the citation and the feature graph."
   ]
  },
  {
   "cell_type": "code",
   "execution_count": null,
   "metadata": {},
   "outputs": [],
   "source": [
    "m = np.round((G_citation.size() + G_feature.size()) / 2)\n",
    "m"
   ]
  },
  {
   "cell_type": "markdown",
   "metadata": {},
   "source": [
    "How do you determine the probability parameter for the Erdős–Rényi graph?"
   ]
  },
  {
   "cell_type": "markdown",
   "metadata": {},
   "source": [
    "**Your answer here:**    \n",
    "edge probability = number or existing edges / number of possible edges\n",
    "\n",
    "### <span style=\"color:red\">TODO: answer.check the question</span>"
   ]
  },
  {
   "cell_type": "code",
   "execution_count": null,
   "metadata": {},
   "outputs": [],
   "source": [
    "p = 2*m/(n**2-n)\n",
    "G_er = nx.erdos_renyi_graph(n, p)"
   ]
  },
  {
   "cell_type": "markdown",
   "metadata": {},
   "source": [
    "Check the number of edges in the Erdős–Rényi graph."
   ]
  },
  {
   "cell_type": "code",
   "execution_count": null,
   "metadata": {},
   "outputs": [],
   "source": [
    "print('My Erdos-Rényi network that simulates the citation graph has {} edges.'.format(G_er.size()))"
   ]
  },
  {
   "cell_type": "markdown",
   "metadata": {},
   "source": [
    "How do you determine the preferential attachment parameter for Barabási–Albert graphs?"
   ]
  },
  {
   "cell_type": "markdown",
   "metadata": {},
   "source": [
    "**Your answer here:**    \n",
    "average number of edges per node?\n",
    "\n",
    "### <span style=\"color:red\">TODO: answer.check!! the question</span>"
   ]
  },
  {
   "cell_type": "code",
   "execution_count": null,
   "metadata": {},
   "outputs": [],
   "source": [
    "q = int(m/n)\n",
    "G_ba = nx.barabasi_albert_graph(n, q)"
   ]
  },
  {
   "cell_type": "markdown",
   "metadata": {},
   "source": [
    "Check the number of edges in the Barabási–Albert graph."
   ]
  },
  {
   "cell_type": "code",
   "execution_count": null,
   "metadata": {},
   "outputs": [],
   "source": [
    "print('My Barabási-Albert network that simulates the citation graph has {} edges.'.format(G_ba.size()))"
   ]
  },
  {
   "cell_type": "markdown",
   "metadata": {},
   "source": [
    "### Question 5: Giant Component"
   ]
  },
  {
   "cell_type": "markdown",
   "metadata": {},
   "source": [
    "Check the size of the largest connected component in the citation and feature graphs."
   ]
  },
  {
   "cell_type": "code",
   "execution_count": null,
   "metadata": {},
   "outputs": [],
   "source": [
    "def get_giant_component(graph):\n",
    "    Gcc = sorted(nx.connected_component_subgraphs(graph), key=len, reverse=True)\n",
    "    return Gcc[0]"
   ]
  },
  {
   "cell_type": "code",
   "execution_count": null,
   "metadata": {},
   "outputs": [],
   "source": [
    "giant_citation = get_giant_component(G_citation)\n",
    "print('The giant component of the citation graph has {} nodes and {} edges.'.format(giant_citation.number_of_nodes(), giant_citation.size()))"
   ]
  },
  {
   "cell_type": "code",
   "execution_count": null,
   "metadata": {},
   "outputs": [],
   "source": [
    "giant_feature = get_giant_component(G_feature)\n",
    "print('The giant component of the feature graph has {} nodes and {} edges.'.format(giant_feature.number_of_nodes(), giant_feature.size()))"
   ]
  },
  {
   "cell_type": "markdown",
   "metadata": {},
   "source": [
    "Check the size of the giant components in the generated Erdős–Rényi graph."
   ]
  },
  {
   "cell_type": "code",
   "execution_count": null,
   "metadata": {},
   "outputs": [],
   "source": [
    "giant_er = get_giant_component(G_er)\n",
    "print('The giant component of the Erdos-Rényi network has {} nodes and {} edges.'.format(giant_er.number_of_nodes(), giant_er.size()))"
   ]
  },
  {
   "cell_type": "markdown",
   "metadata": {},
   "source": [
    "Let us match the number of nodes in the giant component of the feature graph by simulating a new Erdős–Rényi network.\n",
    "How do you choose the probability parameter this time? \n",
    "\n",
    "**Hint:** Recall the expected giant component size from the lectures."
   ]
  },
  {
   "cell_type": "markdown",
   "metadata": {},
   "source": [
    "**Your answer here:**\n",
    "(answer is computed by code blow below)\n",
    "### <span style=\"color:red\">TODO: answer.check!! the question</span>"
   ]
  },
  {
   "cell_type": "code",
   "execution_count": null,
   "metadata": {},
   "outputs": [],
   "source": [
    "Ng = giant_feature.number_of_nodes()\n",
    "N = n\n",
    "print(f'Number of nodes in network (N): {N}')\n",
    "print(f'Wanted number of nodes in GC (Ng): {Ng}')\n",
    "print(f'That is to say N-Ng (= {N-Ng}) nodes not in GC...')\n",
    "print(f'We know that the probability for a node not to be in Gc is (1-p)**Ng')\n",
    "print(f'So we should have N*(1-p)**Ng = N-Ng <=> p = 1 - ((N-Ng)/N)**(1/Ng)')\n",
    "p_new = 1 - ((N-Ng)/N)**(1/Ng)\n",
    "print(f'Finally, p = {p_new}')"
   ]
  },
  {
   "cell_type": "markdown",
   "metadata": {},
   "source": [
    "Check the size of the new Erdős–Rényi network and its giant component."
   ]
  },
  {
   "cell_type": "code",
   "execution_count": null,
   "metadata": {},
   "outputs": [],
   "source": [
    "G_er_new = nx.erdos_renyi_graph(n, p_new)\n",
    "print('My new Erdos Renyi network that simulates the citation graph has {} edges.'.format(G_er_new.size()))\n",
    "giant_er_new = get_giant_component(G_er_new)\n",
    "print('The giant component of the new Erdos-Rényi network has {} nodes and {} edges.'.format(giant_er_new.number_of_nodes(), giant_er_new.size()))"
   ]
  },
  {
   "cell_type": "markdown",
   "metadata": {},
   "source": [
    "### Question 6: Degree Distributions"
   ]
  },
  {
   "cell_type": "markdown",
   "metadata": {},
   "source": [
    "Recall the degree distribution of the citation and the feature graph."
   ]
  },
  {
   "cell_type": "code",
   "execution_count": null,
   "metadata": {},
   "outputs": [],
   "source": [
    "fig, axes = plt.subplots(1, 2, figsize=(15, 4))\n",
    "axes[0].set_title('Citation graph')\n",
    "axes[0].hist(degrees_citation);\n",
    "axes[1].set_title('Feature graph')\n",
    "axes[1].hist(degrees_feature);"
   ]
  },
  {
   "cell_type": "markdown",
   "metadata": {},
   "source": [
    "What does the degree distribution tell us about a network? Can you make a prediction on the network model type of the citation and the feature graph by looking at their degree distributions?"
   ]
  },
  {
   "cell_type": "markdown",
   "metadata": {},
   "source": [
    "**Your answer here:**    \n",
    "The degree distribution tells us about the network typology: \n",
    "- only very low or zero degree-nodes --> isolated nodes\n",
    "- lots of low degrees and a few high degrees nodes --> hubs\n",
    "- only high degree nodes --> connected network\n",
    "- ...\n",
    "(note: the high/low degree is judged comparing to the number of nodes in the network, N)\n",
    "     \n",
    "1. The Feature graph seems to be formed by some _big hubs_ (degree close to N, >= 800) and nodes with a degree around 200 --> **scale free network**\n",
    "2. The Citation graph doesn't have really big hubs (some hubs of degree around 30/35). The distribution looks like a powerlaw distribution. it seems to be closer to a **random network or scale free? (small world?)**\n",
    "\n",
    "## <span style=\"color:red\">TODO: answer the question</span>\n",
    "> The feature degrees distribution is closer to a Poisson law with a lots of big hubs and the citation degrees distribution is closer to a Power law..."
   ]
  },
  {
   "cell_type": "markdown",
   "metadata": {},
   "source": [
    "Now, plot the degree distribution histograms for the simulated networks."
   ]
  },
  {
   "cell_type": "code",
   "execution_count": null,
   "metadata": {},
   "outputs": [],
   "source": [
    "fig, axes = plt.subplots(1, 3, figsize=(20, 4))\n",
    "axes[0].set_title('Erdos-Rényi network')\n",
    "er_degrees = [G_er.degree(n) for n in G_er.nodes()]\n",
    "axes[0].hist(er_degrees);\n",
    "axes[1].set_title('Barabási-Albert network')\n",
    "ba_degrees = [G_ba.degree(n) for n in G_ba.nodes()]\n",
    "axes[1].hist(ba_degrees);\n",
    "axes[2].set_title('new Erdos-Rényi network')\n",
    "er_new_degrees = [G_er_new.degree(n) for n in G_er_new.nodes()]\n",
    "axes[2].hist(er_new_degrees);"
   ]
  },
  {
   "cell_type": "markdown",
   "metadata": {},
   "source": [
    "In terms of the degree distribution, is there a good match between the citation and feature graphs and the simulated networks?\n",
    "For the citation graph, choose one of the simulated networks above that match its degree distribution best. Indicate your preference below."
   ]
  },
  {
   "cell_type": "markdown",
   "metadata": {},
   "source": [
    "**Your answer here:**   \n",
    "The citation graph degree distribution is closer to **the Barabasi-Albert** network degree distribution. None really match the feature graph degree distribution.\n",
    "\n",
    "### <span style=\"color:red\">TODO: answer.check the question</span>"
   ]
  },
  {
   "cell_type": "markdown",
   "metadata": {},
   "source": [
    "You can also simulate a network using the configuration model to match its degree disctribution exactly. Refer to [Configuration model](https://networkx.github.io/documentation/stable/reference/generated/networkx.generators.degree_seq.configuration_model.html#networkx.generators.degree_seq.configuration_model).\n",
    "\n",
    "Let us create another network to match the degree distribution of the feature graph. "
   ]
  },
  {
   "cell_type": "code",
   "execution_count": null,
   "metadata": {},
   "outputs": [],
   "source": [
    "G_config = nx.configuration_model(degrees_feature)\n",
    "print('Configuration model has {} nodes and {} edges.'.format(G_config.number_of_nodes(), G_config.size()))\n",
    "#fig, axe = plt.subplots(figsize=(10, 4))\n",
    "#axe.set_title('configuration model network')\n",
    "#degrees = [G_config.degree(n) for n in G_config.nodes()]\n",
    "#axe.hist(degrees);"
   ]
  },
  {
   "cell_type": "markdown",
   "metadata": {},
   "source": [
    "Does it mean that we create the same graph with the feature graph by the configuration model? If not, how do you understand that they are not the same?"
   ]
  },
  {
   "cell_type": "markdown",
   "metadata": {},
   "source": [
    "**Your answer here:**    \n",
    "It is not the same graph, the number of edges differs a lot.\n",
    "### <span style=\"color:red\">TODO: answer.check the question</span>"
   ]
  },
  {
   "cell_type": "markdown",
   "metadata": {},
   "source": [
    "### Question 7: Clustering Coefficient"
   ]
  },
  {
   "cell_type": "markdown",
   "metadata": {},
   "source": [
    "Let us check the average clustering coefficient of the original citation and feature graphs. "
   ]
  },
  {
   "cell_type": "code",
   "execution_count": null,
   "metadata": {},
   "outputs": [],
   "source": [
    "p_citation = nx.average_clustering(G_citation)"
   ]
  },
  {
   "cell_type": "code",
   "execution_count": null,
   "metadata": {},
   "outputs": [],
   "source": [
    "nx.average_clustering(G_feature)"
   ]
  },
  {
   "cell_type": "markdown",
   "metadata": {},
   "source": [
    "What does the clustering coefficient tell us about a network? Comment on the values you obtain for the citation and feature graph."
   ]
  },
  {
   "cell_type": "markdown",
   "metadata": {},
   "source": [
    "**Your answer here:**   \n",
    "The clustering coefficient is a value between 0 and 1 that represents the tendency nodes have (or not) to clusterize: \"are the friends of my friends, also my friends?\". If we have a look at both extreme cases:\n",
    "1. Clustering coefficient = 0 --> Tree configuration. A is connected to B and C but B and C are not connected.\n",
    "2. Clustering coefficient = 1 --> All nodes that are directly connected to a node are also connected together (clusters). A is connected to B and C so B and C are also connected.\n",
    "\n",
    "In real life we could give the following examples:\n",
    "\n",
    "1. the social network formed by all the followers of a public personality account would tend to have a low clustering coefficient --> they all know the personality but probably don't know each others.\n",
    "2. the social network formed by all the followers of a shy student account would tend to have a high clustering coefficient --> all the followers are probably part of social groups connected to the shy student and therefore connected together.\n",
    "\n",
    "\n",
    "Both Citation and Feature graphs have low clustering coefficients (considering max value = 1). However, citation graph coefficient is twice the feature one. We could explain this difference by the existence of \"citation clusters\": papers that cite them all together. Usually this shouldn't be the case because citations in papers are constrained by the course of time: a paper must be published in order to be cited by another one; however we built the citation graph as an undirected graph so that makes this phenomenon possible.\n",
    "\n",
    "### <span style=\"color:red\">TODO: answer.check the question and the values obtained</span>"
   ]
  },
  {
   "cell_type": "markdown",
   "metadata": {},
   "source": [
    "Now, let us check the average clustering coefficient for the simulated networks."
   ]
  },
  {
   "cell_type": "code",
   "execution_count": null,
   "metadata": {},
   "outputs": [],
   "source": [
    "nx.average_clustering(G_er)"
   ]
  },
  {
   "cell_type": "code",
   "execution_count": null,
   "metadata": {},
   "outputs": [],
   "source": [
    "nx.average_clustering(G_ba)"
   ]
  },
  {
   "cell_type": "code",
   "execution_count": null,
   "metadata": {},
   "outputs": [],
   "source": [
    "nx.average_clustering(nx.Graph(G_config))"
   ]
  },
  {
   "cell_type": "markdown",
   "metadata": {},
   "source": [
    "Comment on the values you obtain for the simulated networks. Is there any good match to the citation or feature graph in terms of clustering coefficient?"
   ]
  },
  {
   "cell_type": "markdown",
   "metadata": {},
   "source": [
    "**Your answer here:**     \n",
    "None seems to be a good match... either too low or too high (considering that 0.08 is a huge value difference as the range of values goes from 0 to 1)\n",
    "\n",
    "### <span style=\"color:red\">TODO: answer.check the question</span>"
   ]
  },
  {
   "cell_type": "markdown",
   "metadata": {},
   "source": [
    "Check the other [network model generators](https://networkx.github.io/documentation/networkx-1.10/reference/generators.html) provided by NetworkX. Which one do you predict to have a better match to the citation graph or the feature graph in terms of degree distribution and clustering coefficient at the same time? Justify your answer."
   ]
  },
  {
   "cell_type": "markdown",
   "metadata": {},
   "source": [
    "**Your answer here:**    \n",
    "The powerlaw_cluster_graph should be a better model as we can adjust the probabily of edges to create a triangle and therefore the clustering coefficient.\n",
    "\n",
    "### <span style=\"color:red\">TODO: answer.compare the question</span>"
   ]
  },
  {
   "cell_type": "markdown",
   "metadata": {},
   "source": [
    "If you find a better fit, create a graph object below for that network model. Print the number of edges and the average clustering coefficient. Plot the histogram of the degree distribution."
   ]
  },
  {
   "cell_type": "code",
   "execution_count": null,
   "metadata": {},
   "outputs": [],
   "source": [
    "def print_graph_brief(graph, name='Test'):\n",
    "    print(f'--- {name} ---')\n",
    "    print(f'Model has {graph.number_of_nodes()} nodes and {graph.size()} edges.')\n",
    "    print(f'Clustering coefficient is {nx.average_clustering(graph)}')\n",
    "    print(f'Self-loops: {graph.number_of_selfloops()} - Connected components: {nx.number_connected_components(graph)}')\n",
    "\n",
    "n_edges_citation = 2*G_citation.size() #undirected\n",
    "average_edges_per_node = int(n_edges_citation/n)\n",
    "G_test = nx.powerlaw_cluster_graph(n=n, m=average_edges_per_node, p=p_citation)\n",
    "print_graph_brief(G_test)\n",
    "print_graph_brief(G_citation, name='Citation graph')\n",
    "fig, axes = plt.subplots(1, 2, figsize=(20, 4))\n",
    "axes[0].set_title('My model network')\n",
    "degrees = [G_test.degree(n) for n in G_test.nodes()]\n",
    "axes[0].hist(degrees);\n",
    "axes[1].set_title('Citation graph')\n",
    "axes[1].hist(degrees_citation);"
   ]
  },
  {
   "cell_type": "markdown",
   "metadata": {},
   "source": [
    "Comment on the similarities of your match."
   ]
  },
  {
   "cell_type": "markdown",
   "metadata": {},
   "source": [
    "**Your answer here:**\n",
    "\n",
    "It has similar number of edges and clustering coefficient. However, the number of connected components is different and the degree distribution could be better approached.\n",
    "\n",
    "\n",
    "## <span style=\"color:red\">TODO: answer.check!! the question</span>"
   ]
  }
 ],
 "metadata": {
  "kernelspec": {
   "display_name": "Python 3",
   "language": "python",
   "name": "python3"
  },
  "language_info": {
   "codemirror_mode": {
    "name": "ipython",
    "version": 3
   },
   "file_extension": ".py",
   "mimetype": "text/x-python",
   "name": "python",
   "nbconvert_exporter": "python",
   "pygments_lexer": "ipython3",
   "version": "3.7.3"
  }
 },
 "nbformat": 4,
 "nbformat_minor": 4
}
